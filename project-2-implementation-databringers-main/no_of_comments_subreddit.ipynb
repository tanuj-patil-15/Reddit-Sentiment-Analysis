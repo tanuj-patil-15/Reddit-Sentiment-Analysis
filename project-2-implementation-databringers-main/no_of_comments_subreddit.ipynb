{
 "cells": [
  {
   "cell_type": "code",
   "execution_count": 9,
   "metadata": {},
   "outputs": [
    {
     "name": "stdout",
     "output_type": "stream",
     "text": [
      "                subreddit  number_of_comments\n",
      "0   AcrossTheSpider_Verse                7706\n",
      "1            DC_Cinematic               76153\n",
      "2              Filmmakers               10658\n",
      "3             ForrestGump                 249\n",
      "4               Godfather                4478\n",
      "5         IMDbFilmGeneral                6749\n",
      "6               Inception                2420\n",
      "7      IntoTheSpiderverse               10858\n",
      "8               JamesBond               33747\n",
      "9                  Marvel               24723\n",
      "10       MovieSuggestions               40403\n",
      "11                  Pixar               10837\n",
      "12    ShawshankRedemption                 118\n",
      "13      SilenceOfTheLambs                 239\n",
      "14           SpiritedAway                1867\n",
      "15               StarWars               47182\n",
      "16     TheDarkKnightRises                7019\n",
      "17   TheDarkKnightTrilogy                 236\n",
      "18         TheGodfatherII                   2\n",
      "19      TheLordOfTheRings                 130\n",
      "20               TrueFilm               25056\n",
      "21              animation                4405\n",
      "22              boxoffice               55558\n",
      "23              fightclub                4052\n",
      "24                 flicks               79745\n",
      "25             goodfellas                 711\n",
      "26            harrypotter               34254\n",
      "27                 horror               44388\n",
      "28           interstellar                6376\n",
      "29                   lotr               32224\n",
      "30           moviereviews                3183\n",
      "31                 movies               70067\n",
      "32               parasite                   0\n",
      "33            pulpfiction                2169\n",
      "34                  scifi               35140\n",
      "35          thedarkknight                  48\n",
      "[7706, 76153, 10658, 249, 4478, 6749, 2420, 10858, 33747, 24723, 40403, 10837, 118, 239, 1867, 47182, 7019, 236, 2, 130, 25056, 4405, 55558, 4052, 79745, 711, 34254, 44388, 6376, 32224, 3183, 70067, 0, 2169, 35140, 48]\n",
      "[7706, 76153, 10658, 249, 4478, 6749, 2420, 10858, 33747, 24723, 40403, 10837, 118, 239, 1867, 47182, 7019, 236, 2, 130, 25056, 4405, 55558, 4052, 79745, 711, 34254, 44388, 6376, 32224, 3183, 70067, 0, 2169, 35140, 48]\n"
     ]
    },
    {
     "data": {
      "text/plain": [
       "<matplotlib.legend.Legend at 0x7fa23edf1050>"
      ]
     },
     "execution_count": 9,
     "metadata": {},
     "output_type": "execute_result"
    },
    {
     "data": {
      "image/png": "[encoded data removed]",
      "text/plain": [
       "<Figure size 640x480 with 1 Axes>"
      ]
     },
     "metadata": {},
     "output_type": "display_data"
    }
   ],
   "source": [
    "import datetime as dt\n",
    "from datetime import datetime, timedelta\n",
    "import json\n",
    "import pandas as pd\n",
    "import pymongo\n",
    "from pymongo import MongoClient\n",
    "from pandas.io.json import json_normalize\n",
    "import math\n",
    "from numpy import nan\n",
    "import numpy as np\n",
    "import matplotlib.pyplot as plt\n",
    "import numpy as np\n",
    "import matplotlib.pyplot as plt\n",
    "import pandas as pd\n",
    "%matplotlib inline\n",
    "\n",
    "\n",
    "with open('config.json', 'r') as file:\n",
    "    config_data = json.load(file)\n",
    "\n",
    "mongo_hostname = config_data['MONGO_HOSTNAME']\n",
    "mongo_portnumber = config_data['MONGO_PORTNUMBER']\n",
    "\n",
    "\n",
    "mongo_client = pymongo.MongoClient(mongo_hostname, mongo_portnumber)\n",
    "db = mongo_client['movieData']\n",
    "\n",
    "politics_collection = db['reddit']\n",
    "\n",
    "\n",
    "data = politics_collection.find({'number_of_comments': {'$exists': True}})\n",
    "\n",
    "\n",
    "\n",
    "df = pd.DataFrame(data)\n",
    "\n",
    "\n",
    "subreddit_comments = df.groupby('subreddit')['number_of_comments'].sum().reset_index()\n",
    "\n",
    "print(subreddit_comments)\n",
    "\n",
    "list_of_comments=subreddit_comments[\"number_of_comments\"].tolist()\n",
    "print(list_of_comments)\n",
    "\n",
    "N = len(list_of_comments)\n",
    "  \n",
    "\n",
    "data = list_of_comments \n",
    "print(data)  \n",
    "# getting data of the histogram\n",
    "count, bins_count = np.histogram(data)\n",
    "  \n",
    "\n",
    "pdf = count / sum(count)\n",
    "  \n",
    "\n",
    "cdf = np.cumsum(pdf)\n",
    "  \n",
    "# plotting PDF and CDF\n",
    "plt.plot(bins_count[1:], pdf, color=\"red\", label=\"PDF\")\n",
    "plt.plot(bins_count[1:], cdf, label=\"CDF\")\n",
    "plt.legend()"
   ]
  }
 ],
 "metadata": {
  "kernelspec": {
   "display_name": "Python 3",
   "language": "python",
   "name": "python3"
  },
  "language_info": {
   "codemirror_mode": {
    "name": "ipython",
    "version": 3
   },
   "file_extension": ".py",
   "mimetype": "text/x-python",
   "name": "python",
   "nbconvert_exporter": "python",
   "pygments_lexer": "ipython3",
   "version": "3.11.4"
  }
 },
 "nbformat": 4,
 "nbformat_minor": 2
}
